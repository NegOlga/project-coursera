{
 "cells": [
  {
   "cell_type": "markdown",
   "id": "afc08200",
   "metadata": {},
   "source": [
    "## The issue regarding the Coursera free courses popularity"
   ]
  },
  {
   "cell_type": "markdown",
   "id": "18faa534",
   "metadata": {},
   "source": [
    "**Description**"
   ]
  },
  {
   "cell_type": "markdown",
   "id": "c2bc2698",
   "metadata": {},
   "source": [
    "A new online school decided to promote their courses by creating a free course on the Coursera. They'd like to find out what the course they should make to gain the popularity on the platform."
   ]
  },
  {
   "cell_type": "markdown",
   "id": "b0904db6",
   "metadata": {},
   "source": [
    "**The aims of an issue:**\n",
    "\n",
    "- To find out what influences on the count of course' reviews\n",
    "- To define the features of the most viewed courses (top-courses)\n",
    "- To give the recommendation for a future course"
   ]
  },
  {
   "cell_type": "markdown",
   "id": "0390435e",
   "metadata": {},
   "source": [
    "**Contents:**\n",
    "<br>1) [Reading data](#Step1)\n",
    "<br>2) [Understanding data](#Step2)\n",
    "<br>3) [Data preparation](#Step3)\n",
    "<br>4) [Explanatory Data Analysis](#Step4)\n",
    "<br>5) [Conclusion](#Step5)"
   ]
  },
  {
   "cell_type": "markdown",
   "id": "38903523",
   "metadata": {},
   "source": [
    "<a class=\"anchor\" id=\"Step1\"></a>\n",
    "### 1. Reading data"
   ]
  },
  {
   "cell_type": "code",
   "execution_count": 1,
   "id": "d1be132c",
   "metadata": {},
   "outputs": [],
   "source": [
    "import pandas as pd\n",
    "import numpy as np\n",
    "import matplotlib.pyplot as plt\n",
    "import seaborn as sns\n",
    "import scipy.stats as stats\n",
    "import warnings\n",
    "warnings.filterwarnings('ignore')"
   ]
  },
  {
   "cell_type": "code",
   "execution_count": 2,
   "id": "af545b11",
   "metadata": {},
   "outputs": [],
   "source": [
    "url = 'https://raw.githubusercontent.com/NegOlga/project-coursera/main/courserafree.csv'\n",
    "data_courses = pd.read_csv(url, index_col=False)"
   ]
  },
  {
   "cell_type": "code",
   "execution_count": 3,
   "id": "61f74c44",
   "metadata": {},
   "outputs": [
    {
     "data": {
      "text/html": [
       "<div>\n",
       "<style scoped>\n",
       "    .dataframe tbody tr th:only-of-type {\n",
       "        vertical-align: middle;\n",
       "    }\n",
       "\n",
       "    .dataframe tbody tr th {\n",
       "        vertical-align: top;\n",
       "    }\n",
       "\n",
       "    .dataframe thead th {\n",
       "        text-align: right;\n",
       "    }\n",
       "</style>\n",
       "<table border=\"1\" class=\"dataframe\">\n",
       "  <thead>\n",
       "    <tr style=\"text-align: right;\">\n",
       "      <th></th>\n",
       "      <th>url</th>\n",
       "      <th>price</th>\n",
       "      <th>institution</th>\n",
       "      <th>title</th>\n",
       "      <th>skills you will gain</th>\n",
       "      <th>css-1qajodb</th>\n",
       "      <th>ratings</th>\n",
       "      <th>reviews</th>\n",
       "      <th>level type duration</th>\n",
       "    </tr>\n",
       "  </thead>\n",
       "  <tbody>\n",
       "    <tr>\n",
       "      <th>0</th>\n",
       "      <td>https://www.coursera.org/learn/indigenous-canada</td>\n",
       "      <td>Free</td>\n",
       "      <td>University of Alberta</td>\n",
       "      <td>Indigenous Canada</td>\n",
       "      <td>Business Psychology, Communication, History, E...</td>\n",
       "      <td>Skills you'll gain:</td>\n",
       "      <td>4.8</td>\n",
       "      <td>(18.8k reviews)</td>\n",
       "      <td>Mixed · Course · 1-3 Months</td>\n",
       "    </tr>\n",
       "    <tr>\n",
       "      <th>1</th>\n",
       "      <td>https://www.coursera.org/learn/financial-marke...</td>\n",
       "      <td>Free</td>\n",
       "      <td>Yale University</td>\n",
       "      <td>Financial Markets</td>\n",
       "      <td>Business Psychology, Data Analysis, Market (Ec...</td>\n",
       "      <td>Skills you'll gain:</td>\n",
       "      <td>4.8</td>\n",
       "      <td>(22.5k reviews)</td>\n",
       "      <td>Beginner · Course · 1-3 Months</td>\n",
       "    </tr>\n",
       "    <tr>\n",
       "      <th>2</th>\n",
       "      <td>https://www.coursera.org/learn/the-science-of-...</td>\n",
       "      <td>Free</td>\n",
       "      <td>Yale University</td>\n",
       "      <td>The Science of Well-Being</td>\n",
       "      <td>Gratitude, Meditation, Planning, Mindfulness</td>\n",
       "      <td>Skills you'll gain:</td>\n",
       "      <td>4.9</td>\n",
       "      <td>(33.4k reviews)</td>\n",
       "      <td>Mixed · Course · 1-3 Months</td>\n",
       "    </tr>\n",
       "    <tr>\n",
       "      <th>3</th>\n",
       "      <td>https://www.coursera.org/learn/sciwrite</td>\n",
       "      <td>Free</td>\n",
       "      <td>Stanford University</td>\n",
       "      <td>Writing in the Sciences</td>\n",
       "      <td>Writing, Communication</td>\n",
       "      <td>Skills you'll gain:</td>\n",
       "      <td>4.9</td>\n",
       "      <td>(6.6k reviews)</td>\n",
       "      <td>Beginner · Course · 1-3 Months</td>\n",
       "    </tr>\n",
       "    <tr>\n",
       "      <th>4</th>\n",
       "      <td>https://www.coursera.org/learn/introduction-ps...</td>\n",
       "      <td>Free</td>\n",
       "      <td>Yale University</td>\n",
       "      <td>Introduction to Psychology</td>\n",
       "      <td>Business Psychology, Psychology, Psychologies,...</td>\n",
       "      <td>Skills you'll gain:</td>\n",
       "      <td>4.9</td>\n",
       "      <td>(23.3k reviews)</td>\n",
       "      <td>Beginner · Course · 1-3 Months</td>\n",
       "    </tr>\n",
       "  </tbody>\n",
       "</table>\n",
       "</div>"
      ],
      "text/plain": [
       "                                                 url price  \\\n",
       "0   https://www.coursera.org/learn/indigenous-canada  Free   \n",
       "1  https://www.coursera.org/learn/financial-marke...  Free   \n",
       "2  https://www.coursera.org/learn/the-science-of-...  Free   \n",
       "3            https://www.coursera.org/learn/sciwrite  Free   \n",
       "4  https://www.coursera.org/learn/introduction-ps...  Free   \n",
       "\n",
       "             institution                       title  \\\n",
       "0  University of Alberta           Indigenous Canada   \n",
       "1        Yale University           Financial Markets   \n",
       "2        Yale University   The Science of Well-Being   \n",
       "3    Stanford University     Writing in the Sciences   \n",
       "4        Yale University  Introduction to Psychology   \n",
       "\n",
       "                                skills you will gain          css-1qajodb  \\\n",
       "0  Business Psychology, Communication, History, E...  Skills you'll gain:   \n",
       "1  Business Psychology, Data Analysis, Market (Ec...  Skills you'll gain:   \n",
       "2       Gratitude, Meditation, Planning, Mindfulness  Skills you'll gain:   \n",
       "3                             Writing, Communication  Skills you'll gain:   \n",
       "4  Business Psychology, Psychology, Psychologies,...  Skills you'll gain:   \n",
       "\n",
       "   ratings          reviews             level type duration  \n",
       "0      4.8  (18.8k reviews)     Mixed · Course · 1-3 Months  \n",
       "1      4.8  (22.5k reviews)  Beginner · Course · 1-3 Months  \n",
       "2      4.9  (33.4k reviews)     Mixed · Course · 1-3 Months  \n",
       "3      4.9   (6.6k reviews)  Beginner · Course · 1-3 Months  \n",
       "4      4.9  (23.3k reviews)  Beginner · Course · 1-3 Months  "
      ]
     },
     "execution_count": 3,
     "metadata": {},
     "output_type": "execute_result"
    }
   ],
   "source": [
    "data_courses.head()"
   ]
  },
  {
   "cell_type": "markdown",
   "id": "4369c232",
   "metadata": {},
   "source": [
    "<a class=\"anchor\" id=\"Step2\"></a>\n",
    "### 2. Understanding data"
   ]
  },
  {
   "cell_type": "code",
   "execution_count": 4,
   "id": "0f5a0284",
   "metadata": {},
   "outputs": [
    {
     "name": "stdout",
     "output_type": "stream",
     "text": [
      "<class 'pandas.core.frame.DataFrame'>\n",
      "RangeIndex: 976 entries, 0 to 975\n",
      "Data columns (total 9 columns):\n",
      " #   Column                Non-Null Count  Dtype  \n",
      "---  ------                --------------  -----  \n",
      " 0   url                   976 non-null    object \n",
      " 1   price                 950 non-null    object \n",
      " 2   institution           976 non-null    object \n",
      " 3    title                976 non-null    object \n",
      " 4   skills you will gain  890 non-null    object \n",
      " 5   css-1qajodb           890 non-null    object \n",
      " 6   ratings               950 non-null    float64\n",
      " 7   reviews               950 non-null    object \n",
      " 8   level type duration   976 non-null    object \n",
      "dtypes: float64(1), object(8)\n",
      "memory usage: 68.8+ KB\n"
     ]
    }
   ],
   "source": [
    "data_courses.info()"
   ]
  },
  {
   "cell_type": "code",
   "execution_count": 5,
   "id": "20007520",
   "metadata": {},
   "outputs": [
    {
     "data": {
      "text/plain": [
       "count    950.000000\n",
       "mean       4.690105\n",
       "std        0.186835\n",
       "min        3.300000\n",
       "25%        4.600000\n",
       "50%        4.700000\n",
       "75%        4.800000\n",
       "max        5.000000\n",
       "Name: ratings, dtype: float64"
      ]
     },
     "execution_count": 5,
     "metadata": {},
     "output_type": "execute_result"
    }
   ],
   "source": [
    "data_courses['ratings'].describe()"
   ]
  },
  {
   "cell_type": "markdown",
   "id": "a8818ef4",
   "metadata": {},
   "source": [
    "<a class=\"anchor\" id=\"Step3\"></a>\n",
    "### 3. Data preparation"
   ]
  },
  {
   "cell_type": "markdown",
   "id": "830d52eb",
   "metadata": {},
   "source": [
    "#### 3.1 Splitting columns"
   ]
  },
  {
   "cell_type": "code",
   "execution_count": 6,
   "id": "3c1dacd6",
   "metadata": {},
   "outputs": [],
   "source": [
    "data_courses[['level', 'type', 'duration']] = data_courses['level type duration'].str.split(' · ', expand=True)"
   ]
  },
  {
   "cell_type": "code",
   "execution_count": 7,
   "id": "ba9e3180",
   "metadata": {},
   "outputs": [
    {
     "data": {
      "text/html": [
       "<div>\n",
       "<style scoped>\n",
       "    .dataframe tbody tr th:only-of-type {\n",
       "        vertical-align: middle;\n",
       "    }\n",
       "\n",
       "    .dataframe tbody tr th {\n",
       "        vertical-align: top;\n",
       "    }\n",
       "\n",
       "    .dataframe thead th {\n",
       "        text-align: right;\n",
       "    }\n",
       "</style>\n",
       "<table border=\"1\" class=\"dataframe\">\n",
       "  <thead>\n",
       "    <tr style=\"text-align: right;\">\n",
       "      <th></th>\n",
       "      <th>url</th>\n",
       "      <th>price</th>\n",
       "      <th>institution</th>\n",
       "      <th>title</th>\n",
       "      <th>skills you will gain</th>\n",
       "      <th>css-1qajodb</th>\n",
       "      <th>ratings</th>\n",
       "      <th>reviews</th>\n",
       "      <th>level type duration</th>\n",
       "      <th>level</th>\n",
       "      <th>type</th>\n",
       "      <th>duration</th>\n",
       "    </tr>\n",
       "  </thead>\n",
       "  <tbody>\n",
       "    <tr>\n",
       "      <th>0</th>\n",
       "      <td>https://www.coursera.org/learn/indigenous-canada</td>\n",
       "      <td>Free</td>\n",
       "      <td>University of Alberta</td>\n",
       "      <td>Indigenous Canada</td>\n",
       "      <td>Business Psychology, Communication, History, E...</td>\n",
       "      <td>Skills you'll gain:</td>\n",
       "      <td>4.8</td>\n",
       "      <td>(18.8k reviews)</td>\n",
       "      <td>Mixed · Course · 1-3 Months</td>\n",
       "      <td>Mixed</td>\n",
       "      <td>Course</td>\n",
       "      <td>1-3 Months</td>\n",
       "    </tr>\n",
       "    <tr>\n",
       "      <th>1</th>\n",
       "      <td>https://www.coursera.org/learn/financial-marke...</td>\n",
       "      <td>Free</td>\n",
       "      <td>Yale University</td>\n",
       "      <td>Financial Markets</td>\n",
       "      <td>Business Psychology, Data Analysis, Market (Ec...</td>\n",
       "      <td>Skills you'll gain:</td>\n",
       "      <td>4.8</td>\n",
       "      <td>(22.5k reviews)</td>\n",
       "      <td>Beginner · Course · 1-3 Months</td>\n",
       "      <td>Beginner</td>\n",
       "      <td>Course</td>\n",
       "      <td>1-3 Months</td>\n",
       "    </tr>\n",
       "    <tr>\n",
       "      <th>2</th>\n",
       "      <td>https://www.coursera.org/learn/the-science-of-...</td>\n",
       "      <td>Free</td>\n",
       "      <td>Yale University</td>\n",
       "      <td>The Science of Well-Being</td>\n",
       "      <td>Gratitude, Meditation, Planning, Mindfulness</td>\n",
       "      <td>Skills you'll gain:</td>\n",
       "      <td>4.9</td>\n",
       "      <td>(33.4k reviews)</td>\n",
       "      <td>Mixed · Course · 1-3 Months</td>\n",
       "      <td>Mixed</td>\n",
       "      <td>Course</td>\n",
       "      <td>1-3 Months</td>\n",
       "    </tr>\n",
       "    <tr>\n",
       "      <th>3</th>\n",
       "      <td>https://www.coursera.org/learn/sciwrite</td>\n",
       "      <td>Free</td>\n",
       "      <td>Stanford University</td>\n",
       "      <td>Writing in the Sciences</td>\n",
       "      <td>Writing, Communication</td>\n",
       "      <td>Skills you'll gain:</td>\n",
       "      <td>4.9</td>\n",
       "      <td>(6.6k reviews)</td>\n",
       "      <td>Beginner · Course · 1-3 Months</td>\n",
       "      <td>Beginner</td>\n",
       "      <td>Course</td>\n",
       "      <td>1-3 Months</td>\n",
       "    </tr>\n",
       "    <tr>\n",
       "      <th>4</th>\n",
       "      <td>https://www.coursera.org/learn/introduction-ps...</td>\n",
       "      <td>Free</td>\n",
       "      <td>Yale University</td>\n",
       "      <td>Introduction to Psychology</td>\n",
       "      <td>Business Psychology, Psychology, Psychologies,...</td>\n",
       "      <td>Skills you'll gain:</td>\n",
       "      <td>4.9</td>\n",
       "      <td>(23.3k reviews)</td>\n",
       "      <td>Beginner · Course · 1-3 Months</td>\n",
       "      <td>Beginner</td>\n",
       "      <td>Course</td>\n",
       "      <td>1-3 Months</td>\n",
       "    </tr>\n",
       "  </tbody>\n",
       "</table>\n",
       "</div>"
      ],
      "text/plain": [
       "                                                 url price  \\\n",
       "0   https://www.coursera.org/learn/indigenous-canada  Free   \n",
       "1  https://www.coursera.org/learn/financial-marke...  Free   \n",
       "2  https://www.coursera.org/learn/the-science-of-...  Free   \n",
       "3            https://www.coursera.org/learn/sciwrite  Free   \n",
       "4  https://www.coursera.org/learn/introduction-ps...  Free   \n",
       "\n",
       "             institution                       title  \\\n",
       "0  University of Alberta           Indigenous Canada   \n",
       "1        Yale University           Financial Markets   \n",
       "2        Yale University   The Science of Well-Being   \n",
       "3    Stanford University     Writing in the Sciences   \n",
       "4        Yale University  Introduction to Psychology   \n",
       "\n",
       "                                skills you will gain          css-1qajodb  \\\n",
       "0  Business Psychology, Communication, History, E...  Skills you'll gain:   \n",
       "1  Business Psychology, Data Analysis, Market (Ec...  Skills you'll gain:   \n",
       "2       Gratitude, Meditation, Planning, Mindfulness  Skills you'll gain:   \n",
       "3                             Writing, Communication  Skills you'll gain:   \n",
       "4  Business Psychology, Psychology, Psychologies,...  Skills you'll gain:   \n",
       "\n",
       "   ratings          reviews             level type duration     level    type  \\\n",
       "0      4.8  (18.8k reviews)     Mixed · Course · 1-3 Months     Mixed  Course   \n",
       "1      4.8  (22.5k reviews)  Beginner · Course · 1-3 Months  Beginner  Course   \n",
       "2      4.9  (33.4k reviews)     Mixed · Course · 1-3 Months     Mixed  Course   \n",
       "3      4.9   (6.6k reviews)  Beginner · Course · 1-3 Months  Beginner  Course   \n",
       "4      4.9  (23.3k reviews)  Beginner · Course · 1-3 Months  Beginner  Course   \n",
       "\n",
       "     duration  \n",
       "0  1-3 Months  \n",
       "1  1-3 Months  \n",
       "2  1-3 Months  \n",
       "3  1-3 Months  \n",
       "4  1-3 Months  "
      ]
     },
     "execution_count": 7,
     "metadata": {},
     "output_type": "execute_result"
    }
   ],
   "source": [
    "data_courses.head()"
   ]
  },
  {
   "cell_type": "code",
   "execution_count": 8,
   "id": "30bcf1dc",
   "metadata": {},
   "outputs": [],
   "source": [
    "data_courses = data_courses.drop(['url', 'css-1qajodb', 'level type duration'], axis=1)"
   ]
  },
  {
   "cell_type": "code",
   "execution_count": 9,
   "id": "71f663c4",
   "metadata": {},
   "outputs": [
    {
     "name": "stdout",
     "output_type": "stream",
     "text": [
      "<class 'pandas.core.frame.DataFrame'>\n",
      "RangeIndex: 976 entries, 0 to 975\n",
      "Data columns (total 9 columns):\n",
      " #   Column                Non-Null Count  Dtype  \n",
      "---  ------                --------------  -----  \n",
      " 0   price                 950 non-null    object \n",
      " 1   institution           976 non-null    object \n",
      " 2    title                976 non-null    object \n",
      " 3   skills you will gain  890 non-null    object \n",
      " 4   ratings               950 non-null    float64\n",
      " 5   reviews               950 non-null    object \n",
      " 6   level                 976 non-null    object \n",
      " 7   type                  976 non-null    object \n",
      " 8   duration              976 non-null    object \n",
      "dtypes: float64(1), object(8)\n",
      "memory usage: 68.8+ KB\n"
     ]
    }
   ],
   "source": [
    "data_courses.info()"
   ]
  },
  {
   "cell_type": "code",
   "execution_count": 10,
   "id": "c44f91e4",
   "metadata": {},
   "outputs": [],
   "source": [
    "data_courses = data_courses.rename(columns={'skills you will gain':'skills',\n",
    "                            data_courses.columns[2]:'title'})"
   ]
  },
  {
   "cell_type": "code",
   "execution_count": 11,
   "id": "e5f74a96",
   "metadata": {},
   "outputs": [
    {
     "data": {
      "text/html": [
       "<div>\n",
       "<style scoped>\n",
       "    .dataframe tbody tr th:only-of-type {\n",
       "        vertical-align: middle;\n",
       "    }\n",
       "\n",
       "    .dataframe tbody tr th {\n",
       "        vertical-align: top;\n",
       "    }\n",
       "\n",
       "    .dataframe thead th {\n",
       "        text-align: right;\n",
       "    }\n",
       "</style>\n",
       "<table border=\"1\" class=\"dataframe\">\n",
       "  <thead>\n",
       "    <tr style=\"text-align: right;\">\n",
       "      <th></th>\n",
       "      <th>price</th>\n",
       "      <th>institution</th>\n",
       "      <th>title</th>\n",
       "      <th>skills</th>\n",
       "      <th>ratings</th>\n",
       "      <th>reviews</th>\n",
       "      <th>level</th>\n",
       "      <th>type</th>\n",
       "      <th>duration</th>\n",
       "    </tr>\n",
       "  </thead>\n",
       "  <tbody>\n",
       "    <tr>\n",
       "      <th>0</th>\n",
       "      <td>Free</td>\n",
       "      <td>University of Alberta</td>\n",
       "      <td>Indigenous Canada</td>\n",
       "      <td>Business Psychology, Communication, History, E...</td>\n",
       "      <td>4.8</td>\n",
       "      <td>(18.8k reviews)</td>\n",
       "      <td>Mixed</td>\n",
       "      <td>Course</td>\n",
       "      <td>1-3 Months</td>\n",
       "    </tr>\n",
       "    <tr>\n",
       "      <th>1</th>\n",
       "      <td>Free</td>\n",
       "      <td>Yale University</td>\n",
       "      <td>Financial Markets</td>\n",
       "      <td>Business Psychology, Data Analysis, Market (Ec...</td>\n",
       "      <td>4.8</td>\n",
       "      <td>(22.5k reviews)</td>\n",
       "      <td>Beginner</td>\n",
       "      <td>Course</td>\n",
       "      <td>1-3 Months</td>\n",
       "    </tr>\n",
       "    <tr>\n",
       "      <th>2</th>\n",
       "      <td>Free</td>\n",
       "      <td>Yale University</td>\n",
       "      <td>The Science of Well-Being</td>\n",
       "      <td>Gratitude, Meditation, Planning, Mindfulness</td>\n",
       "      <td>4.9</td>\n",
       "      <td>(33.4k reviews)</td>\n",
       "      <td>Mixed</td>\n",
       "      <td>Course</td>\n",
       "      <td>1-3 Months</td>\n",
       "    </tr>\n",
       "    <tr>\n",
       "      <th>3</th>\n",
       "      <td>Free</td>\n",
       "      <td>Stanford University</td>\n",
       "      <td>Writing in the Sciences</td>\n",
       "      <td>Writing, Communication</td>\n",
       "      <td>4.9</td>\n",
       "      <td>(6.6k reviews)</td>\n",
       "      <td>Beginner</td>\n",
       "      <td>Course</td>\n",
       "      <td>1-3 Months</td>\n",
       "    </tr>\n",
       "    <tr>\n",
       "      <th>4</th>\n",
       "      <td>Free</td>\n",
       "      <td>Yale University</td>\n",
       "      <td>Introduction to Psychology</td>\n",
       "      <td>Business Psychology, Psychology, Psychologies,...</td>\n",
       "      <td>4.9</td>\n",
       "      <td>(23.3k reviews)</td>\n",
       "      <td>Beginner</td>\n",
       "      <td>Course</td>\n",
       "      <td>1-3 Months</td>\n",
       "    </tr>\n",
       "    <tr>\n",
       "      <th>5</th>\n",
       "      <td>Free</td>\n",
       "      <td>Stanford University</td>\n",
       "      <td>Introduction to Statistics</td>\n",
       "      <td>Basic Descriptive Statistics, Hypothesis, Data...</td>\n",
       "      <td>4.5</td>\n",
       "      <td>(1.3k reviews)</td>\n",
       "      <td>Beginner</td>\n",
       "      <td>Course</td>\n",
       "      <td>1-3 Months</td>\n",
       "    </tr>\n",
       "    <tr>\n",
       "      <th>6</th>\n",
       "      <td>Free</td>\n",
       "      <td>Stanford University</td>\n",
       "      <td>Stanford Introduction to Food and Health</td>\n",
       "      <td>Label, Choice, Nutrition</td>\n",
       "      <td>4.7</td>\n",
       "      <td>(25.8k reviews)</td>\n",
       "      <td>Beginner</td>\n",
       "      <td>Course</td>\n",
       "      <td>1-3 Months</td>\n",
       "    </tr>\n",
       "    <tr>\n",
       "      <th>7</th>\n",
       "      <td>Free</td>\n",
       "      <td>Atlassian</td>\n",
       "      <td>Agile with Atlassian Jira</td>\n",
       "      <td>Software Engineering, Software, Project, Opera...</td>\n",
       "      <td>4.7</td>\n",
       "      <td>(6.5k reviews)</td>\n",
       "      <td>Beginner</td>\n",
       "      <td>Course</td>\n",
       "      <td>1-4 Weeks</td>\n",
       "    </tr>\n",
       "    <tr>\n",
       "      <th>8</th>\n",
       "      <td>Free</td>\n",
       "      <td>University of London</td>\n",
       "      <td>Brand Management: Aligning Business, Brand and...</td>\n",
       "      <td>Corporate Accouting, Customer Success, Strateg...</td>\n",
       "      <td>4.9</td>\n",
       "      <td>(5.9k reviews)</td>\n",
       "      <td>Beginner</td>\n",
       "      <td>Course</td>\n",
       "      <td>1-3 Months</td>\n",
       "    </tr>\n",
       "  </tbody>\n",
       "</table>\n",
       "</div>"
      ],
      "text/plain": [
       "  price            institution  \\\n",
       "0  Free  University of Alberta   \n",
       "1  Free        Yale University   \n",
       "2  Free        Yale University   \n",
       "3  Free    Stanford University   \n",
       "4  Free        Yale University   \n",
       "5  Free    Stanford University   \n",
       "6  Free    Stanford University   \n",
       "7  Free              Atlassian   \n",
       "8  Free   University of London   \n",
       "\n",
       "                                               title  \\\n",
       "0                                  Indigenous Canada   \n",
       "1                                  Financial Markets   \n",
       "2                          The Science of Well-Being   \n",
       "3                            Writing in the Sciences   \n",
       "4                         Introduction to Psychology   \n",
       "5                         Introduction to Statistics   \n",
       "6           Stanford Introduction to Food and Health   \n",
       "7                          Agile with Atlassian Jira   \n",
       "8  Brand Management: Aligning Business, Brand and...   \n",
       "\n",
       "                                              skills  ratings  \\\n",
       "0  Business Psychology, Communication, History, E...      4.8   \n",
       "1  Business Psychology, Data Analysis, Market (Ec...      4.8   \n",
       "2       Gratitude, Meditation, Planning, Mindfulness      4.9   \n",
       "3                             Writing, Communication      4.9   \n",
       "4  Business Psychology, Psychology, Psychologies,...      4.9   \n",
       "5  Basic Descriptive Statistics, Hypothesis, Data...      4.5   \n",
       "6                           Label, Choice, Nutrition      4.7   \n",
       "7  Software Engineering, Software, Project, Opera...      4.7   \n",
       "8  Corporate Accouting, Customer Success, Strateg...      4.9   \n",
       "\n",
       "           reviews     level    type    duration  \n",
       "0  (18.8k reviews)     Mixed  Course  1-3 Months  \n",
       "1  (22.5k reviews)  Beginner  Course  1-3 Months  \n",
       "2  (33.4k reviews)     Mixed  Course  1-3 Months  \n",
       "3   (6.6k reviews)  Beginner  Course  1-3 Months  \n",
       "4  (23.3k reviews)  Beginner  Course  1-3 Months  \n",
       "5   (1.3k reviews)  Beginner  Course  1-3 Months  \n",
       "6  (25.8k reviews)  Beginner  Course  1-3 Months  \n",
       "7   (6.5k reviews)  Beginner  Course   1-4 Weeks  \n",
       "8   (5.9k reviews)  Beginner  Course  1-3 Months  "
      ]
     },
     "execution_count": 11,
     "metadata": {},
     "output_type": "execute_result"
    }
   ],
   "source": [
    "data_courses.head(9)"
   ]
  },
  {
   "cell_type": "code",
   "execution_count": 12,
   "id": "c5a41e9e",
   "metadata": {},
   "outputs": [],
   "source": [
    "data_courses['reviews']=data_courses['reviews'].str.replace(' reviews', '')\n",
    "data_courses['reviews']=data_courses['reviews'].replace({'k': '*1e3', np.NaN:0}, regex=True).map(pd.eval).astype(int)"
   ]
  },
  {
   "cell_type": "code",
   "execution_count": 13,
   "id": "e5fae766",
   "metadata": {},
   "outputs": [
    {
     "data": {
      "text/html": [
       "<div>\n",
       "<style scoped>\n",
       "    .dataframe tbody tr th:only-of-type {\n",
       "        vertical-align: middle;\n",
       "    }\n",
       "\n",
       "    .dataframe tbody tr th {\n",
       "        vertical-align: top;\n",
       "    }\n",
       "\n",
       "    .dataframe thead th {\n",
       "        text-align: right;\n",
       "    }\n",
       "</style>\n",
       "<table border=\"1\" class=\"dataframe\">\n",
       "  <thead>\n",
       "    <tr style=\"text-align: right;\">\n",
       "      <th></th>\n",
       "      <th>price</th>\n",
       "      <th>institution</th>\n",
       "      <th>title</th>\n",
       "      <th>skills</th>\n",
       "      <th>ratings</th>\n",
       "      <th>reviews</th>\n",
       "      <th>level</th>\n",
       "      <th>type</th>\n",
       "      <th>duration</th>\n",
       "    </tr>\n",
       "  </thead>\n",
       "  <tbody>\n",
       "    <tr>\n",
       "      <th>0</th>\n",
       "      <td>Free</td>\n",
       "      <td>University of Alberta</td>\n",
       "      <td>Indigenous Canada</td>\n",
       "      <td>Business Psychology, Communication, History, E...</td>\n",
       "      <td>4.8</td>\n",
       "      <td>18800</td>\n",
       "      <td>Mixed</td>\n",
       "      <td>Course</td>\n",
       "      <td>1-3 Months</td>\n",
       "    </tr>\n",
       "    <tr>\n",
       "      <th>1</th>\n",
       "      <td>Free</td>\n",
       "      <td>Yale University</td>\n",
       "      <td>Financial Markets</td>\n",
       "      <td>Business Psychology, Data Analysis, Market (Ec...</td>\n",
       "      <td>4.8</td>\n",
       "      <td>22500</td>\n",
       "      <td>Beginner</td>\n",
       "      <td>Course</td>\n",
       "      <td>1-3 Months</td>\n",
       "    </tr>\n",
       "    <tr>\n",
       "      <th>2</th>\n",
       "      <td>Free</td>\n",
       "      <td>Yale University</td>\n",
       "      <td>The Science of Well-Being</td>\n",
       "      <td>Gratitude, Meditation, Planning, Mindfulness</td>\n",
       "      <td>4.9</td>\n",
       "      <td>33400</td>\n",
       "      <td>Mixed</td>\n",
       "      <td>Course</td>\n",
       "      <td>1-3 Months</td>\n",
       "    </tr>\n",
       "    <tr>\n",
       "      <th>3</th>\n",
       "      <td>Free</td>\n",
       "      <td>Stanford University</td>\n",
       "      <td>Writing in the Sciences</td>\n",
       "      <td>Writing, Communication</td>\n",
       "      <td>4.9</td>\n",
       "      <td>6600</td>\n",
       "      <td>Beginner</td>\n",
       "      <td>Course</td>\n",
       "      <td>1-3 Months</td>\n",
       "    </tr>\n",
       "    <tr>\n",
       "      <th>4</th>\n",
       "      <td>Free</td>\n",
       "      <td>Yale University</td>\n",
       "      <td>Introduction to Psychology</td>\n",
       "      <td>Business Psychology, Psychology, Psychologies,...</td>\n",
       "      <td>4.9</td>\n",
       "      <td>23300</td>\n",
       "      <td>Beginner</td>\n",
       "      <td>Course</td>\n",
       "      <td>1-3 Months</td>\n",
       "    </tr>\n",
       "  </tbody>\n",
       "</table>\n",
       "</div>"
      ],
      "text/plain": [
       "  price            institution                       title  \\\n",
       "0  Free  University of Alberta           Indigenous Canada   \n",
       "1  Free        Yale University           Financial Markets   \n",
       "2  Free        Yale University   The Science of Well-Being   \n",
       "3  Free    Stanford University     Writing in the Sciences   \n",
       "4  Free        Yale University  Introduction to Psychology   \n",
       "\n",
       "                                              skills  ratings  reviews  \\\n",
       "0  Business Psychology, Communication, History, E...      4.8    18800   \n",
       "1  Business Psychology, Data Analysis, Market (Ec...      4.8    22500   \n",
       "2       Gratitude, Meditation, Planning, Mindfulness      4.9    33400   \n",
       "3                             Writing, Communication      4.9     6600   \n",
       "4  Business Psychology, Psychology, Psychologies,...      4.9    23300   \n",
       "\n",
       "      level    type    duration  \n",
       "0     Mixed  Course  1-3 Months  \n",
       "1  Beginner  Course  1-3 Months  \n",
       "2     Mixed  Course  1-3 Months  \n",
       "3  Beginner  Course  1-3 Months  \n",
       "4  Beginner  Course  1-3 Months  "
      ]
     },
     "execution_count": 13,
     "metadata": {},
     "output_type": "execute_result"
    }
   ],
   "source": [
    "data_courses.head()"
   ]
  },
  {
   "cell_type": "code",
   "execution_count": 14,
   "id": "35f6849d",
   "metadata": {},
   "outputs": [
    {
     "name": "stdout",
     "output_type": "stream",
     "text": [
      "<class 'pandas.core.frame.DataFrame'>\n",
      "RangeIndex: 976 entries, 0 to 975\n",
      "Data columns (total 9 columns):\n",
      " #   Column       Non-Null Count  Dtype  \n",
      "---  ------       --------------  -----  \n",
      " 0   price        950 non-null    object \n",
      " 1   institution  976 non-null    object \n",
      " 2   title        976 non-null    object \n",
      " 3   skills       890 non-null    object \n",
      " 4   ratings      950 non-null    float64\n",
      " 5   reviews      976 non-null    int32  \n",
      " 6   level        976 non-null    object \n",
      " 7   type         976 non-null    object \n",
      " 8   duration     976 non-null    object \n",
      "dtypes: float64(1), int32(1), object(7)\n",
      "memory usage: 64.9+ KB\n"
     ]
    }
   ],
   "source": [
    "data_courses.info()"
   ]
  },
  {
   "cell_type": "markdown",
   "id": "9ca5c61f",
   "metadata": {},
   "source": [
    "#### 3.2. Handling missing values"
   ]
  },
  {
   "cell_type": "code",
   "execution_count": 15,
   "id": "252e60ce",
   "metadata": {},
   "outputs": [
    {
     "data": {
      "text/html": [
       "<div>\n",
       "<style scoped>\n",
       "    .dataframe tbody tr th:only-of-type {\n",
       "        vertical-align: middle;\n",
       "    }\n",
       "\n",
       "    .dataframe tbody tr th {\n",
       "        vertical-align: top;\n",
       "    }\n",
       "\n",
       "    .dataframe thead th {\n",
       "        text-align: right;\n",
       "    }\n",
       "</style>\n",
       "<table border=\"1\" class=\"dataframe\">\n",
       "  <thead>\n",
       "    <tr style=\"text-align: right;\">\n",
       "      <th></th>\n",
       "      <th>missing values, count</th>\n",
       "      <th>missing values, %</th>\n",
       "    </tr>\n",
       "  </thead>\n",
       "  <tbody>\n",
       "    <tr>\n",
       "      <th>price</th>\n",
       "      <td>26</td>\n",
       "      <td>2.66</td>\n",
       "    </tr>\n",
       "    <tr>\n",
       "      <th>institution</th>\n",
       "      <td>0</td>\n",
       "      <td>0.00</td>\n",
       "    </tr>\n",
       "    <tr>\n",
       "      <th>title</th>\n",
       "      <td>0</td>\n",
       "      <td>0.00</td>\n",
       "    </tr>\n",
       "    <tr>\n",
       "      <th>skills</th>\n",
       "      <td>86</td>\n",
       "      <td>8.81</td>\n",
       "    </tr>\n",
       "    <tr>\n",
       "      <th>ratings</th>\n",
       "      <td>26</td>\n",
       "      <td>2.66</td>\n",
       "    </tr>\n",
       "    <tr>\n",
       "      <th>reviews</th>\n",
       "      <td>0</td>\n",
       "      <td>0.00</td>\n",
       "    </tr>\n",
       "    <tr>\n",
       "      <th>level</th>\n",
       "      <td>0</td>\n",
       "      <td>0.00</td>\n",
       "    </tr>\n",
       "    <tr>\n",
       "      <th>type</th>\n",
       "      <td>0</td>\n",
       "      <td>0.00</td>\n",
       "    </tr>\n",
       "    <tr>\n",
       "      <th>duration</th>\n",
       "      <td>0</td>\n",
       "      <td>0.00</td>\n",
       "    </tr>\n",
       "  </tbody>\n",
       "</table>\n",
       "</div>"
      ],
      "text/plain": [
       "             missing values, count  missing values, %\n",
       "price                           26               2.66\n",
       "institution                      0               0.00\n",
       "title                            0               0.00\n",
       "skills                          86               8.81\n",
       "ratings                         26               2.66\n",
       "reviews                          0               0.00\n",
       "level                            0               0.00\n",
       "type                             0               0.00\n",
       "duration                         0               0.00"
      ]
     },
     "metadata": {},
     "output_type": "display_data"
    }
   ],
   "source": [
    "missing_values = pd.DataFrame(data_courses.isna().sum(), columns = ['missing values, count'])\n",
    "missing_values['missing values, %'] = round(data_courses.isna().sum()/data_courses.shape[0]*100, 2)\n",
    "display(missing_values)"
   ]
  },
  {
   "cell_type": "code",
   "execution_count": 16,
   "id": "8690453d",
   "metadata": {},
   "outputs": [
    {
     "data": {
      "text/html": [
       "<div>\n",
       "<style scoped>\n",
       "    .dataframe tbody tr th:only-of-type {\n",
       "        vertical-align: middle;\n",
       "    }\n",
       "\n",
       "    .dataframe tbody tr th {\n",
       "        vertical-align: top;\n",
       "    }\n",
       "\n",
       "    .dataframe thead th {\n",
       "        text-align: right;\n",
       "    }\n",
       "</style>\n",
       "<table border=\"1\" class=\"dataframe\">\n",
       "  <thead>\n",
       "    <tr style=\"text-align: right;\">\n",
       "      <th></th>\n",
       "      <th>price</th>\n",
       "      <th>institution</th>\n",
       "      <th>title</th>\n",
       "      <th>skills</th>\n",
       "      <th>ratings</th>\n",
       "      <th>reviews</th>\n",
       "      <th>level</th>\n",
       "      <th>type</th>\n",
       "      <th>duration</th>\n",
       "    </tr>\n",
       "  </thead>\n",
       "  <tbody>\n",
       "    <tr>\n",
       "      <th>255</th>\n",
       "      <td>NaN</td>\n",
       "      <td>Coursera Project Network</td>\n",
       "      <td>Business Analysis &amp; Process Management</td>\n",
       "      <td>Business Process, Entrepreneurship, Process, B...</td>\n",
       "      <td>4.3</td>\n",
       "      <td>1300</td>\n",
       "      <td>Beginner</td>\n",
       "      <td>Guided Project</td>\n",
       "      <td>Less Than 2 Hours</td>\n",
       "    </tr>\n",
       "    <tr>\n",
       "      <th>256</th>\n",
       "      <td>NaN</td>\n",
       "      <td>Coursera Project Network</td>\n",
       "      <td>Google Ads for Beginners</td>\n",
       "      <td>Communication, Advertising, Marketing, Google ...</td>\n",
       "      <td>4.5</td>\n",
       "      <td>3200</td>\n",
       "      <td>Beginner</td>\n",
       "      <td>Guided Project</td>\n",
       "      <td>Less Than 2 Hours</td>\n",
       "    </tr>\n",
       "    <tr>\n",
       "      <th>303</th>\n",
       "      <td>NaN</td>\n",
       "      <td>Coursera Project Network</td>\n",
       "      <td>Introduction to Microsoft Excel</td>\n",
       "      <td>Spreadsheet, Data Analysis, Data Analysis Soft...</td>\n",
       "      <td>4.6</td>\n",
       "      <td>810</td>\n",
       "      <td>Intermediate</td>\n",
       "      <td>Guided Project</td>\n",
       "      <td>Less Than 2 Hours</td>\n",
       "    </tr>\n",
       "    <tr>\n",
       "      <th>565</th>\n",
       "      <td>NaN</td>\n",
       "      <td>Coursera Project Network</td>\n",
       "      <td>Introduction to Data Analysis using Microsoft ...</td>\n",
       "      <td>Data Analysis, Analysis, Data Mining, Data Ana...</td>\n",
       "      <td>4.6</td>\n",
       "      <td>342</td>\n",
       "      <td>Intermediate</td>\n",
       "      <td>Guided Project</td>\n",
       "      <td>Less Than 2 Hours</td>\n",
       "    </tr>\n",
       "    <tr>\n",
       "      <th>598</th>\n",
       "      <td>NaN</td>\n",
       "      <td>Coursera Project Network</td>\n",
       "      <td>Use Canva to Create Social Media Visuals for B...</td>\n",
       "      <td>Communication, Research and Design, Entreprene...</td>\n",
       "      <td>4.5</td>\n",
       "      <td>842</td>\n",
       "      <td>Beginner</td>\n",
       "      <td>Guided Project</td>\n",
       "      <td>Less Than 2 Hours</td>\n",
       "    </tr>\n",
       "  </tbody>\n",
       "</table>\n",
       "</div>"
      ],
      "text/plain": [
       "    price               institution  \\\n",
       "255   NaN  Coursera Project Network   \n",
       "256   NaN  Coursera Project Network   \n",
       "303   NaN  Coursera Project Network   \n",
       "565   NaN  Coursera Project Network   \n",
       "598   NaN  Coursera Project Network   \n",
       "\n",
       "                                                 title  \\\n",
       "255             Business Analysis & Process Management   \n",
       "256                           Google Ads for Beginners   \n",
       "303                    Introduction to Microsoft Excel   \n",
       "565  Introduction to Data Analysis using Microsoft ...   \n",
       "598  Use Canva to Create Social Media Visuals for B...   \n",
       "\n",
       "                                                skills  ratings  reviews  \\\n",
       "255  Business Process, Entrepreneurship, Process, B...      4.3     1300   \n",
       "256  Communication, Advertising, Marketing, Google ...      4.5     3200   \n",
       "303  Spreadsheet, Data Analysis, Data Analysis Soft...      4.6      810   \n",
       "565  Data Analysis, Analysis, Data Mining, Data Ana...      4.6      342   \n",
       "598  Communication, Research and Design, Entreprene...      4.5      842   \n",
       "\n",
       "            level            type           duration  \n",
       "255      Beginner  Guided Project  Less Than 2 Hours  \n",
       "256      Beginner  Guided Project  Less Than 2 Hours  \n",
       "303  Intermediate  Guided Project  Less Than 2 Hours  \n",
       "565  Intermediate  Guided Project  Less Than 2 Hours  \n",
       "598      Beginner  Guided Project  Less Than 2 Hours  "
      ]
     },
     "execution_count": 16,
     "metadata": {},
     "output_type": "execute_result"
    }
   ],
   "source": [
    "#loooking for the missing values in the column price\n",
    "data_courses[data_courses['price'].isna()].head()"
   ]
  },
  {
   "cell_type": "markdown",
   "id": "96fa4702",
   "metadata": {},
   "source": [
    "As far as we explore the courses which are available for free, we can delete the rows where the value in the price column isn't defined."
   ]
  },
  {
   "cell_type": "code",
   "execution_count": 17,
   "id": "49c78ab9",
   "metadata": {},
   "outputs": [],
   "source": [
    "data_courses = data_courses[~data_courses['price'].isna()]"
   ]
  },
  {
   "cell_type": "code",
   "execution_count": 18,
   "id": "b8a69e18",
   "metadata": {},
   "outputs": [
    {
     "data": {
      "text/plain": [
       "price           0\n",
       "institution     0\n",
       "title           0\n",
       "skills         86\n",
       "ratings        26\n",
       "reviews         0\n",
       "level           0\n",
       "type            0\n",
       "duration        0\n",
       "dtype: int64"
      ]
     },
     "execution_count": 18,
     "metadata": {},
     "output_type": "execute_result"
    }
   ],
   "source": [
    "data_courses.isna().sum()"
   ]
  },
  {
   "cell_type": "code",
   "execution_count": 19,
   "id": "d9f9ebe0",
   "metadata": {},
   "outputs": [
    {
     "data": {
      "text/html": [
       "<div>\n",
       "<style scoped>\n",
       "    .dataframe tbody tr th:only-of-type {\n",
       "        vertical-align: middle;\n",
       "    }\n",
       "\n",
       "    .dataframe tbody tr th {\n",
       "        vertical-align: top;\n",
       "    }\n",
       "\n",
       "    .dataframe thead th {\n",
       "        text-align: right;\n",
       "    }\n",
       "</style>\n",
       "<table border=\"1\" class=\"dataframe\">\n",
       "  <thead>\n",
       "    <tr style=\"text-align: right;\">\n",
       "      <th></th>\n",
       "      <th>price</th>\n",
       "      <th>institution</th>\n",
       "      <th>title</th>\n",
       "      <th>skills</th>\n",
       "      <th>ratings</th>\n",
       "      <th>reviews</th>\n",
       "      <th>level</th>\n",
       "      <th>type</th>\n",
       "      <th>duration</th>\n",
       "    </tr>\n",
       "  </thead>\n",
       "  <tbody>\n",
       "    <tr>\n",
       "      <th>363</th>\n",
       "      <td>Free</td>\n",
       "      <td>Technische Universität München (TUM)</td>\n",
       "      <td>Urban Air Mobility</td>\n",
       "      <td>NaN</td>\n",
       "      <td>NaN</td>\n",
       "      <td>0</td>\n",
       "      <td>Intermediate</td>\n",
       "      <td>Course</td>\n",
       "      <td>1-3 Months</td>\n",
       "    </tr>\n",
       "    <tr>\n",
       "      <th>474</th>\n",
       "      <td>Free</td>\n",
       "      <td>University of California, Santa Cruz</td>\n",
       "      <td>AI, Empathy &amp; Ethics</td>\n",
       "      <td>NaN</td>\n",
       "      <td>NaN</td>\n",
       "      <td>0</td>\n",
       "      <td>Beginner</td>\n",
       "      <td>Course</td>\n",
       "      <td>1-4 Weeks</td>\n",
       "    </tr>\n",
       "    <tr>\n",
       "      <th>501</th>\n",
       "      <td>Free</td>\n",
       "      <td>University of London</td>\n",
       "      <td>Explore Management Concepts through Metaphor a...</td>\n",
       "      <td>NaN</td>\n",
       "      <td>NaN</td>\n",
       "      <td>0</td>\n",
       "      <td>Beginner</td>\n",
       "      <td>Course</td>\n",
       "      <td>1-4 Weeks</td>\n",
       "    </tr>\n",
       "    <tr>\n",
       "      <th>571</th>\n",
       "      <td>Free</td>\n",
       "      <td>University of Illinois at Urbana-Champaign</td>\n",
       "      <td>Le marketing dans un monde numérique</td>\n",
       "      <td>NaN</td>\n",
       "      <td>NaN</td>\n",
       "      <td>0</td>\n",
       "      <td>Beginner</td>\n",
       "      <td>Course</td>\n",
       "      <td>1-4 Weeks</td>\n",
       "    </tr>\n",
       "    <tr>\n",
       "      <th>642</th>\n",
       "      <td>Free</td>\n",
       "      <td>Infosec</td>\n",
       "      <td>Introduction to Cybersecurity Foundations</td>\n",
       "      <td>NaN</td>\n",
       "      <td>NaN</td>\n",
       "      <td>0</td>\n",
       "      <td>Beginner</td>\n",
       "      <td>Course</td>\n",
       "      <td>1-4 Weeks</td>\n",
       "    </tr>\n",
       "  </tbody>\n",
       "</table>\n",
       "</div>"
      ],
      "text/plain": [
       "    price                                 institution  \\\n",
       "363  Free        Technische Universität München (TUM)   \n",
       "474  Free        University of California, Santa Cruz   \n",
       "501  Free                        University of London   \n",
       "571  Free  University of Illinois at Urbana-Champaign   \n",
       "642  Free                                     Infosec   \n",
       "\n",
       "                                                 title skills  ratings  \\\n",
       "363                                 Urban Air Mobility    NaN      NaN   \n",
       "474                               AI, Empathy & Ethics    NaN      NaN   \n",
       "501  Explore Management Concepts through Metaphor a...    NaN      NaN   \n",
       "571               Le marketing dans un monde numérique    NaN      NaN   \n",
       "642          Introduction to Cybersecurity Foundations    NaN      NaN   \n",
       "\n",
       "     reviews         level    type    duration  \n",
       "363        0  Intermediate  Course  1-3 Months  \n",
       "474        0      Beginner  Course   1-4 Weeks  \n",
       "501        0      Beginner  Course   1-4 Weeks  \n",
       "571        0      Beginner  Course   1-4 Weeks  \n",
       "642        0      Beginner  Course   1-4 Weeks  "
      ]
     },
     "metadata": {},
     "output_type": "display_data"
    },
    {
     "name": "stdout",
     "output_type": "stream",
     "text": [
      "The amount of rows where rating is absent and the reviews' count is more than 0 reviews = 0\n"
     ]
    }
   ],
   "source": [
    "#check the missing values in tha columns ratings and reviews\n",
    "display(data_courses[data_courses['ratings'].isna()].head())\n",
    "print(\"The amount of rows where rating is absent and the reviews' count is more than 0 reviews =\",\n",
    "      len(data_courses[(data_courses['reviews'] !=0) & (data_courses['ratings'].isna())]['ratings']))"
   ]
  },
  {
   "cell_type": "markdown",
   "id": "08f68bdd",
   "metadata": {},
   "source": [
    "There are no missing values of rating in the rows where the count of reviews is more then 0 views. It means that all the absent values are only in the rows with new courses. The new courses are not useful in our issue so we can delete the rows where rating is absent."
   ]
  },
  {
   "cell_type": "code",
   "execution_count": 20,
   "id": "929d9b74",
   "metadata": {},
   "outputs": [],
   "source": [
    "data_courses = data_courses[~data_courses['ratings'].isna()]"
   ]
  },
  {
   "cell_type": "code",
   "execution_count": 21,
   "id": "ec594b77",
   "metadata": {},
   "outputs": [
    {
     "data": {
      "text/plain": [
       "price           0\n",
       "institution     0\n",
       "title           0\n",
       "skills         66\n",
       "ratings         0\n",
       "reviews         0\n",
       "level           0\n",
       "type            0\n",
       "duration        0\n",
       "dtype: int64"
      ]
     },
     "execution_count": 21,
     "metadata": {},
     "output_type": "execute_result"
    }
   ],
   "source": [
    "data_courses.isna().sum()"
   ]
  },
  {
   "cell_type": "code",
   "execution_count": 22,
   "id": "70ccade3",
   "metadata": {},
   "outputs": [],
   "source": [
    "#fill the missing values in the column skills\n",
    "data_courses['skills'] = data_courses['skills'].fillna('Undefined')"
   ]
  },
  {
   "cell_type": "code",
   "execution_count": 23,
   "id": "cc382c89",
   "metadata": {},
   "outputs": [
    {
     "data": {
      "text/plain": [
       "price          0\n",
       "institution    0\n",
       "title          0\n",
       "skills         0\n",
       "ratings        0\n",
       "reviews        0\n",
       "level          0\n",
       "type           0\n",
       "duration       0\n",
       "dtype: int64"
      ]
     },
     "execution_count": 23,
     "metadata": {},
     "output_type": "execute_result"
    }
   ],
   "source": [
    "data_courses.isna().sum()"
   ]
  },
  {
   "cell_type": "code",
   "execution_count": 24,
   "id": "f1cd257d",
   "metadata": {},
   "outputs": [
    {
     "data": {
      "text/plain": [
       "(924, 9)"
      ]
     },
     "execution_count": 24,
     "metadata": {},
     "output_type": "execute_result"
    }
   ],
   "source": [
    "data_courses.shape"
   ]
  },
  {
   "cell_type": "code",
   "execution_count": 25,
   "id": "245a7ace",
   "metadata": {},
   "outputs": [
    {
     "data": {
      "text/plain": [
       "0"
      ]
     },
     "execution_count": 25,
     "metadata": {},
     "output_type": "execute_result"
    }
   ],
   "source": [
    "#check the duplicates()\n",
    "data_courses.duplicated().sum()"
   ]
  },
  {
   "cell_type": "markdown",
   "id": "cfdab6d5",
   "metadata": {},
   "source": [
    "<a class=\"anchor\" id=\"Step4\"></a>\n",
    "### 4. Explanatory Data Analysis"
   ]
  },
  {
   "cell_type": "markdown",
   "id": "014f94db",
   "metadata": {},
   "source": [
    "#### 4.1. Functions"
   ]
  },
  {
   "cell_type": "code",
   "execution_count": 26,
   "id": "d7ac70d2",
   "metadata": {},
   "outputs": [],
   "source": [
    "def distplot(data, axes, columns=[]):\n",
    "    sns.distplot(x=data[columns], ax=axes)\n",
    "    axes.set_title(f'{columns} histogram')\n",
    "    axes.set_xlabel(f'{columns}')"
   ]
  },
  {
   "cell_type": "code",
   "execution_count": 27,
   "id": "f4084a0d",
   "metadata": {},
   "outputs": [],
   "source": [
    "def boxplot(data, axes, columns=[]):\n",
    "    sns.boxplot(x=data[columns], ax=axes)\n",
    "    axes.set_title(f'{columns} boxplot')"
   ]
  },
  {
   "cell_type": "code",
   "execution_count": 28,
   "id": "a142fb9d",
   "metadata": {},
   "outputs": [],
   "source": [
    "# function for histograms and boxplots creating\n",
    "def distribution_variable(data, title):\n",
    "    fig, ax = plt.subplots(2,2, figsize=(15,10))\n",
    "    \n",
    "    distplot(data, axes=ax[0][0], columns='ratings')\n",
    "    distplot(data, axes=ax[1][0], columns='reviews')\n",
    "\n",
    "\n",
    "    boxplot(data, axes=ax[0][1], columns='ratings')\n",
    "    boxplot(data, axes=ax[1][1], columns='reviews')\n",
    "\n",
    "\n",
    "    fig.suptitle(title, fontsize=16)\n",
    "    plt.show()"
   ]
  },
  {
   "cell_type": "code",
   "execution_count": 29,
   "id": "1f3dd422",
   "metadata": {},
   "outputs": [],
   "source": [
    "# body of a barplot\n",
    "def body_plot_func_general(data, columns, axes, labels=False, text=[]):\n",
    "    grouped_rating = data.groupby(by=columns)['reviews'].median().sort_values(ascending=False).reset_index()\n",
    "    sns.barplot(grouped_rating[columns], grouped_rating['reviews'], palette='bright', ax=axes).grid(axis= 'y')\n",
    "    plt.title(f'Distribution of reviews by {columns} {text}', fontsize=12)\n",
    "    \n",
    "    if labels == True:\n",
    "        for i, reviews in enumerate(grouped_rating['reviews']):\n",
    "            plt.text(i, reviews+1, round(reviews), horizontalalignment='center', fontsize=10)"
   ]
  },
  {
   "cell_type": "code",
   "execution_count": 30,
   "id": "ba9916f0",
   "metadata": {},
   "outputs": [],
   "source": [
    "# barplot function\n",
    "def barplot_characteristics_by_reviews(data_1, data_2, labels=False, columns=[]):\n",
    "    plt.figure(figsize=(15,6))\n",
    "    \n",
    "    ax1 = plt.subplot(1, 2, 1)\n",
    "    body_plot_func_general(data_1, columns, ax1, labels, text='no outliers')\n",
    "    \n",
    "    ax2 = plt.subplot(1, 2, 2)\n",
    "    body_plot_func_general(data_2, columns, ax2, labels, text='with outliers')\n",
    "    \n",
    "    plt.suptitle(f'Distribution of reviews by {columns}', fontsize=18)\n",
    "    plt.show()"
   ]
  },
  {
   "cell_type": "code",
   "execution_count": 31,
   "id": "78390eb9",
   "metadata": {},
   "outputs": [],
   "source": [
    "#body of a top-10 barplot\n",
    "def body_plot_func(data, columns, axes):\n",
    "    data_grouped=(data.groupby(by=columns)['reviews'].median().reset_index()\n",
    "    .sort_values(by='reviews', ascending=False).head(10))\n",
    "    \n",
    "    sns.barplot(data_grouped[columns], data_grouped['reviews'], palette='bright', ax=axes)\\\n",
    "        .set(title=f\"Top-10 {columns} by courses' reviews\")\n",
    "    \n",
    "    for i, reviews in enumerate(data_grouped['reviews'][:10]):\n",
    "        plt.text(i, reviews, round(reviews), horizontalalignment='center', fontsize=10)\n",
    "        \n",
    "    plt.gca().set_xticklabels(data_grouped[columns].unique(), rotation=9, horizontalalignment= 'right')"
   ]
  },
  {
   "cell_type": "code",
   "execution_count": 32,
   "id": "95114ffd",
   "metadata": {},
   "outputs": [],
   "source": [
    "#top-10 barplot function\n",
    "def barplot_charact_top_10(data_1, data_2, columns=[]):\n",
    "    plt.figure(figsize=(15,18))\n",
    "    \n",
    "    ax1 = plt.subplot(2,1,1)\n",
    "    body_plot_func(data_1, columns, ax1)\n",
    "    \n",
    "    ax2 = plt.subplot(2,1,2)\n",
    "    body_plot_func(data_2, columns, ax2)\n",
    "    \n",
    "    plt.suptitle(f\"Top-10 {columns} by median courses' reviews\", fontsize=18)\n",
    "    plt.show()"
   ]
  },
  {
   "cell_type": "code",
   "execution_count": 33,
   "id": "fe3743a2",
   "metadata": {},
   "outputs": [],
   "source": [
    "#splitting skills function\n",
    "def skills(data):\n",
    "    dict_skills = {}\n",
    "    for x in data.values:\n",
    "        skills = x[3]\n",
    "        reviews = x[5]\n",
    "        skills_list = skills.split(', ')\n",
    "        for skill in skills_list:\n",
    "            if skill in dict_skills:\n",
    "                dict_skills[skill] += reviews\n",
    "            else:\n",
    "                dict_skills[skill] = reviews\n",
    "                \n",
    "    skills_data = pd.DataFrame(dict_skills.items(), columns=['skills', 'reviews']).sort_values('reviews', ascending=False)\n",
    "    return skills_data"
   ]
  },
  {
   "cell_type": "code",
   "execution_count": 34,
   "id": "edd1707b",
   "metadata": {},
   "outputs": [],
   "source": [
    "# duration category function\n",
    "def category(x):\n",
    "    if x == '1-4 Weeks':\n",
    "        return '<1 Month'\n",
    "    elif x == '1-3 Months':\n",
    "        return '<3 Month'\n",
    "    elif x == '3-6 Months':\n",
    "        return '<6 Month'"
   ]
  },
  {
   "cell_type": "markdown",
   "id": "3350f730",
   "metadata": {},
   "source": [
    "#### 4.2. Distribution "
   ]
  },
  {
   "cell_type": "code",
   "execution_count": 35,
   "id": "2d5f25fc",
   "metadata": {},
   "outputs": [
    {
     "data": {
      "text/html": [
       "<div>\n",
       "<style scoped>\n",
       "    .dataframe tbody tr th:only-of-type {\n",
       "        vertical-align: middle;\n",
       "    }\n",
       "\n",
       "    .dataframe tbody tr th {\n",
       "        vertical-align: top;\n",
       "    }\n",
       "\n",
       "    .dataframe thead th {\n",
       "        text-align: right;\n",
       "    }\n",
       "</style>\n",
       "<table border=\"1\" class=\"dataframe\">\n",
       "  <thead>\n",
       "    <tr style=\"text-align: right;\">\n",
       "      <th></th>\n",
       "      <th>price</th>\n",
       "      <th>institution</th>\n",
       "      <th>title</th>\n",
       "      <th>skills</th>\n",
       "      <th>ratings</th>\n",
       "      <th>reviews</th>\n",
       "      <th>level</th>\n",
       "      <th>type</th>\n",
       "      <th>duration</th>\n",
       "    </tr>\n",
       "  </thead>\n",
       "  <tbody>\n",
       "    <tr>\n",
       "      <th>0</th>\n",
       "      <td>Free</td>\n",
       "      <td>University of Alberta</td>\n",
       "      <td>Indigenous Canada</td>\n",
       "      <td>Business Psychology, Communication, History, E...</td>\n",
       "      <td>4.8</td>\n",
       "      <td>18800</td>\n",
       "      <td>Mixed</td>\n",
       "      <td>Course</td>\n",
       "      <td>1-3 Months</td>\n",
       "    </tr>\n",
       "    <tr>\n",
       "      <th>1</th>\n",
       "      <td>Free</td>\n",
       "      <td>Yale University</td>\n",
       "      <td>Financial Markets</td>\n",
       "      <td>Business Psychology, Data Analysis, Market (Ec...</td>\n",
       "      <td>4.8</td>\n",
       "      <td>22500</td>\n",
       "      <td>Beginner</td>\n",
       "      <td>Course</td>\n",
       "      <td>1-3 Months</td>\n",
       "    </tr>\n",
       "    <tr>\n",
       "      <th>2</th>\n",
       "      <td>Free</td>\n",
       "      <td>Yale University</td>\n",
       "      <td>The Science of Well-Being</td>\n",
       "      <td>Gratitude, Meditation, Planning, Mindfulness</td>\n",
       "      <td>4.9</td>\n",
       "      <td>33400</td>\n",
       "      <td>Mixed</td>\n",
       "      <td>Course</td>\n",
       "      <td>1-3 Months</td>\n",
       "    </tr>\n",
       "    <tr>\n",
       "      <th>3</th>\n",
       "      <td>Free</td>\n",
       "      <td>Stanford University</td>\n",
       "      <td>Writing in the Sciences</td>\n",
       "      <td>Writing, Communication</td>\n",
       "      <td>4.9</td>\n",
       "      <td>6600</td>\n",
       "      <td>Beginner</td>\n",
       "      <td>Course</td>\n",
       "      <td>1-3 Months</td>\n",
       "    </tr>\n",
       "    <tr>\n",
       "      <th>4</th>\n",
       "      <td>Free</td>\n",
       "      <td>Yale University</td>\n",
       "      <td>Introduction to Psychology</td>\n",
       "      <td>Business Psychology, Psychology, Psychologies,...</td>\n",
       "      <td>4.9</td>\n",
       "      <td>23300</td>\n",
       "      <td>Beginner</td>\n",
       "      <td>Course</td>\n",
       "      <td>1-3 Months</td>\n",
       "    </tr>\n",
       "  </tbody>\n",
       "</table>\n",
       "</div>"
      ],
      "text/plain": [
       "  price            institution                       title  \\\n",
       "0  Free  University of Alberta           Indigenous Canada   \n",
       "1  Free        Yale University           Financial Markets   \n",
       "2  Free        Yale University   The Science of Well-Being   \n",
       "3  Free    Stanford University     Writing in the Sciences   \n",
       "4  Free        Yale University  Introduction to Psychology   \n",
       "\n",
       "                                              skills  ratings  reviews  \\\n",
       "0  Business Psychology, Communication, History, E...      4.8    18800   \n",
       "1  Business Psychology, Data Analysis, Market (Ec...      4.8    22500   \n",
       "2       Gratitude, Meditation, Planning, Mindfulness      4.9    33400   \n",
       "3                             Writing, Communication      4.9     6600   \n",
       "4  Business Psychology, Psychology, Psychologies,...      4.9    23300   \n",
       "\n",
       "      level    type    duration  \n",
       "0     Mixed  Course  1-3 Months  \n",
       "1  Beginner  Course  1-3 Months  \n",
       "2     Mixed  Course  1-3 Months  \n",
       "3  Beginner  Course  1-3 Months  \n",
       "4  Beginner  Course  1-3 Months  "
      ]
     },
     "execution_count": 35,
     "metadata": {},
     "output_type": "execute_result"
    }
   ],
   "source": [
    "data_courses.head()"
   ]
  },
  {
   "cell_type": "code",
   "execution_count": 36,
   "id": "2dcb20f4",
   "metadata": {},
   "outputs": [
    {
     "data": {
      "text/html": [
       "<div>\n",
       "<style scoped>\n",
       "    .dataframe tbody tr th:only-of-type {\n",
       "        vertical-align: middle;\n",
       "    }\n",
       "\n",
       "    .dataframe tbody tr th {\n",
       "        vertical-align: top;\n",
       "    }\n",
       "\n",
       "    .dataframe thead th {\n",
       "        text-align: right;\n",
       "    }\n",
       "</style>\n",
       "<table border=\"1\" class=\"dataframe\">\n",
       "  <thead>\n",
       "    <tr style=\"text-align: right;\">\n",
       "      <th></th>\n",
       "      <th>ratings</th>\n",
       "      <th>reviews</th>\n",
       "    </tr>\n",
       "  </thead>\n",
       "  <tbody>\n",
       "    <tr>\n",
       "      <th>count</th>\n",
       "      <td>924.000000</td>\n",
       "      <td>924.000000</td>\n",
       "    </tr>\n",
       "    <tr>\n",
       "      <th>mean</th>\n",
       "      <td>4.695887</td>\n",
       "      <td>1240.281385</td>\n",
       "    </tr>\n",
       "    <tr>\n",
       "      <th>std</th>\n",
       "      <td>0.184926</td>\n",
       "      <td>3864.473328</td>\n",
       "    </tr>\n",
       "    <tr>\n",
       "      <th>min</th>\n",
       "      <td>3.300000</td>\n",
       "      <td>6.000000</td>\n",
       "    </tr>\n",
       "    <tr>\n",
       "      <th>25%</th>\n",
       "      <td>4.600000</td>\n",
       "      <td>143.000000</td>\n",
       "    </tr>\n",
       "    <tr>\n",
       "      <th>50%</th>\n",
       "      <td>4.700000</td>\n",
       "      <td>415.500000</td>\n",
       "    </tr>\n",
       "    <tr>\n",
       "      <th>75%</th>\n",
       "      <td>4.800000</td>\n",
       "      <td>1100.000000</td>\n",
       "    </tr>\n",
       "    <tr>\n",
       "      <th>max</th>\n",
       "      <td>5.000000</td>\n",
       "      <td>82500.000000</td>\n",
       "    </tr>\n",
       "  </tbody>\n",
       "</table>\n",
       "</div>"
      ],
      "text/plain": [
       "          ratings       reviews\n",
       "count  924.000000    924.000000\n",
       "mean     4.695887   1240.281385\n",
       "std      0.184926   3864.473328\n",
       "min      3.300000      6.000000\n",
       "25%      4.600000    143.000000\n",
       "50%      4.700000    415.500000\n",
       "75%      4.800000   1100.000000\n",
       "max      5.000000  82500.000000"
      ]
     },
     "execution_count": 36,
     "metadata": {},
     "output_type": "execute_result"
    }
   ],
   "source": [
    "data_courses.describe()"
   ]
  },
  {
   "cell_type": "code",
   "execution_count": 37,
   "id": "46184801",
   "metadata": {},
   "outputs": [
    {
     "data": {
      "image/png": "[encoded data removed]",
      "text/plain": [
       "<Figure size 1080x720 with 4 Axes>"
      ]
     },
     "metadata": {
      "needs_background": "light"
     },
     "output_type": "display_data"
    }
   ],
   "source": [
    "distribution_variable(data_courses, title='Distribution of rating and reviews')"
   ]
  },
  {
   "cell_type": "code",
   "execution_count": 38,
   "id": "5e80bbfb",
   "metadata": {},
   "outputs": [],
   "source": [
    "#skewness\n",
    "testDict = {}\n",
    "for col in data_courses[['ratings', 'reviews']]:\n",
    "    skew = data_courses[col].skew()\n",
    "    testDict[col] = (skew, np.abs(skew))"
   ]
  },
  {
   "cell_type": "code",
   "execution_count": 39,
   "id": "51eac969",
   "metadata": {},
   "outputs": [
    {
     "data": {
      "text/html": [
       "<div>\n",
       "<style scoped>\n",
       "    .dataframe tbody tr th:only-of-type {\n",
       "        vertical-align: middle;\n",
       "    }\n",
       "\n",
       "    .dataframe tbody tr th {\n",
       "        vertical-align: top;\n",
       "    }\n",
       "\n",
       "    .dataframe thead th {\n",
       "        text-align: right;\n",
       "    }\n",
       "</style>\n",
       "<table border=\"1\" class=\"dataframe\">\n",
       "  <thead>\n",
       "    <tr style=\"text-align: right;\">\n",
       "      <th></th>\n",
       "      <th>Skewness</th>\n",
       "      <th>Abs_Skew</th>\n",
       "    </tr>\n",
       "  </thead>\n",
       "  <tbody>\n",
       "    <tr>\n",
       "      <th>reviews</th>\n",
       "      <td>13.182788</td>\n",
       "      <td>13.182788</td>\n",
       "    </tr>\n",
       "    <tr>\n",
       "      <th>ratings</th>\n",
       "      <td>-2.563425</td>\n",
       "      <td>2.563425</td>\n",
       "    </tr>\n",
       "  </tbody>\n",
       "</table>\n",
       "</div>"
      ],
      "text/plain": [
       "          Skewness   Abs_Skew\n",
       "reviews  13.182788  13.182788\n",
       "ratings  -2.563425   2.563425"
      ]
     },
     "execution_count": 39,
     "metadata": {},
     "output_type": "execute_result"
    }
   ],
   "source": [
    "pd.DataFrame(testDict, index = ['Skewness', 'Abs_Skew']).T.sort_values(by = 'Abs_Skew', ascending = False)"
   ]
  },
  {
   "cell_type": "markdown",
   "id": "98c51ed7",
   "metadata": {},
   "source": [
    "We can observe that the column 'reviews' is right-skewed. The column 'ratings' has a skewness to the left. \n",
    "\n",
    "Also, the column 'reviews' has a lot of outliers. Outliers will be defined by values that are outside of 1.5 times Inter Quartile Range (IQR). We extract the outliers in this issue to find out the real median meanings of rating and reviews and also to consider the most popular courses in details."
   ]
  },
  {
   "cell_type": "code",
   "execution_count": 40,
   "id": "95b4e07f",
   "metadata": {},
   "outputs": [],
   "source": [
    "#restrictions on rating\n",
    "Q1_rating = data_courses['ratings'].quantile(0.25)\n",
    "Q3_rating = data_courses['ratings'].quantile (0.75)\n",
    "\n",
    "IQR = Q3_rating - Q1_rating"
   ]
  },
  {
   "cell_type": "code",
   "execution_count": 41,
   "id": "98151d70",
   "metadata": {},
   "outputs": [],
   "source": [
    "data_courses_nooutliers = data_courses\\\n",
    "[(data_courses['ratings']>(Q1_rating - 1.5*IQR)) & (data_courses['ratings']<(Q3_rating + 1.5*IQR))]"
   ]
  },
  {
   "cell_type": "code",
   "execution_count": 42,
   "id": "735f2ee5",
   "metadata": {},
   "outputs": [],
   "source": [
    "#restrictions on reviews\n",
    "Q1_rating = data_courses['reviews'].quantile(0.25)\n",
    "Q3_rating = data_courses['reviews'].quantile (0.75)\n",
    "\n",
    "IQR = Q3_rating - Q1_rating"
   ]
  },
  {
   "cell_type": "code",
   "execution_count": 43,
   "id": "82662cac",
   "metadata": {},
   "outputs": [],
   "source": [
    "data_courses_nooutliers = data_courses[(data_courses['reviews']>(Q1_rating - 1.5*IQR)) & (data_courses['reviews']<(Q3_rating + 1.5*IQR))]\n",
    "data_courses_outliers = data_courses[(data_courses['reviews']<(Q1_rating - 1.5*IQR)) | (data_courses['reviews']>(Q3_rating + 1.5*IQR))]"
   ]
  },
  {
   "cell_type": "code",
   "execution_count": 44,
   "id": "0e1bae06",
   "metadata": {},
   "outputs": [
    {
     "data": {
      "image/png": "[encoded data removed]",
      "text/plain": [
       "<Figure size 1080x720 with 4 Axes>"
      ]
     },
     "metadata": {
      "needs_background": "light"
     },
     "output_type": "display_data"
    }
   ],
   "source": [
    "distribution_variable(data_courses_nooutliers, title='Distribution of rating and reviews (without outliers)')"
   ]
  },
  {
   "cell_type": "markdown",
   "id": "b5dc72d0",
   "metadata": {},
   "source": [
    "**Conclusion:**\n",
    "<br>\n",
    "<br>- rating of the most courses is between 4.25 and 5.00. The median value for rating is around 4.7\n",
    "<br>- the most courses have from 0 to 1800 reviews. The median value is around 400 reviews. 3/4 of courses have less than 1000 views.\n",
    "    \n",
    "We can mention that less then a half of courses get 500 reviews. Less then 3/4 of courses gain more than 1000 views. So we should find out the characteristics of a potential popular course (the course which gains more than the median count of reviews)."
   ]
  },
  {
   "cell_type": "markdown",
   "id": "bdd26d1f",
   "metadata": {},
   "source": [
    "### 4.3. The dependence between reviews and other characteristics"
   ]
  },
  {
   "cell_type": "markdown",
   "id": "050fcb85",
   "metadata": {},
   "source": [
    "First of all, we should understand if the dependence between reviews and other characteristics exists. Also, we should define the most popular meanings of each characteristic to create the portrait of the course which have a possibility to gain the most reviews. To find regular meanings of each charactericstic we'll use the table data_courses_nooutliers. To find the features of top courses we'll use the table data_courses_outliers."
   ]
  },
  {
   "cell_type": "code",
   "execution_count": 45,
   "id": "e7f2afd3",
   "metadata": {},
   "outputs": [
    {
     "data": {
      "text/html": [
       "<div>\n",
       "<style scoped>\n",
       "    .dataframe tbody tr th:only-of-type {\n",
       "        vertical-align: middle;\n",
       "    }\n",
       "\n",
       "    .dataframe tbody tr th {\n",
       "        vertical-align: top;\n",
       "    }\n",
       "\n",
       "    .dataframe thead th {\n",
       "        text-align: right;\n",
       "    }\n",
       "</style>\n",
       "<table border=\"1\" class=\"dataframe\">\n",
       "  <thead>\n",
       "    <tr style=\"text-align: right;\">\n",
       "      <th></th>\n",
       "      <th>price</th>\n",
       "      <th>institution</th>\n",
       "      <th>title</th>\n",
       "      <th>skills</th>\n",
       "      <th>ratings</th>\n",
       "      <th>reviews</th>\n",
       "      <th>level</th>\n",
       "      <th>type</th>\n",
       "      <th>duration</th>\n",
       "    </tr>\n",
       "  </thead>\n",
       "  <tbody>\n",
       "    <tr>\n",
       "      <th>5</th>\n",
       "      <td>Free</td>\n",
       "      <td>Stanford University</td>\n",
       "      <td>Introduction to Statistics</td>\n",
       "      <td>Basic Descriptive Statistics, Hypothesis, Data...</td>\n",
       "      <td>4.5</td>\n",
       "      <td>1300</td>\n",
       "      <td>Beginner</td>\n",
       "      <td>Course</td>\n",
       "      <td>1-3 Months</td>\n",
       "    </tr>\n",
       "    <tr>\n",
       "      <th>11</th>\n",
       "      <td>Free</td>\n",
       "      <td>Stanford University</td>\n",
       "      <td>Organizational Analysis</td>\n",
       "      <td>Network Analysis, Communication, Entrepreneurs...</td>\n",
       "      <td>4.6</td>\n",
       "      <td>1200</td>\n",
       "      <td>Beginner</td>\n",
       "      <td>Course</td>\n",
       "      <td>1-3 Months</td>\n",
       "    </tr>\n",
       "    <tr>\n",
       "      <th>12</th>\n",
       "      <td>Free</td>\n",
       "      <td>Yale University</td>\n",
       "      <td>Managing Emotions in Times of Uncertainty &amp; St...</td>\n",
       "      <td>Entrepreneurship, Communication, Leadership an...</td>\n",
       "      <td>4.8</td>\n",
       "      <td>1900</td>\n",
       "      <td>Beginner</td>\n",
       "      <td>Course</td>\n",
       "      <td>1-3 Months</td>\n",
       "    </tr>\n",
       "    <tr>\n",
       "      <th>13</th>\n",
       "      <td>Free</td>\n",
       "      <td>Stanford University</td>\n",
       "      <td>International Women's Health and Human Rights</td>\n",
       "      <td>Supply Chain and Logistics, Entrepreneurship, ...</td>\n",
       "      <td>4.9</td>\n",
       "      <td>1300</td>\n",
       "      <td>Beginner</td>\n",
       "      <td>Course</td>\n",
       "      <td>3-6 Months</td>\n",
       "    </tr>\n",
       "    <tr>\n",
       "      <th>17</th>\n",
       "      <td>Free</td>\n",
       "      <td>University of Maryland, College Park</td>\n",
       "      <td>Cybersecurity for Everyone</td>\n",
       "      <td>Computer Architecture, Network Architecture, C...</td>\n",
       "      <td>4.7</td>\n",
       "      <td>337</td>\n",
       "      <td>Beginner</td>\n",
       "      <td>Course</td>\n",
       "      <td>1-3 Months</td>\n",
       "    </tr>\n",
       "  </tbody>\n",
       "</table>\n",
       "</div>"
      ],
      "text/plain": [
       "   price                           institution  \\\n",
       "5   Free                   Stanford University   \n",
       "11  Free                   Stanford University   \n",
       "12  Free                       Yale University   \n",
       "13  Free                   Stanford University   \n",
       "17  Free  University of Maryland, College Park   \n",
       "\n",
       "                                                title  \\\n",
       "5                          Introduction to Statistics   \n",
       "11                            Organizational Analysis   \n",
       "12  Managing Emotions in Times of Uncertainty & St...   \n",
       "13      International Women's Health and Human Rights   \n",
       "17                         Cybersecurity for Everyone   \n",
       "\n",
       "                                               skills  ratings  reviews  \\\n",
       "5   Basic Descriptive Statistics, Hypothesis, Data...      4.5     1300   \n",
       "11  Network Analysis, Communication, Entrepreneurs...      4.6     1200   \n",
       "12  Entrepreneurship, Communication, Leadership an...      4.8     1900   \n",
       "13  Supply Chain and Logistics, Entrepreneurship, ...      4.9     1300   \n",
       "17  Computer Architecture, Network Architecture, C...      4.7      337   \n",
       "\n",
       "       level    type    duration  \n",
       "5   Beginner  Course  1-3 Months  \n",
       "11  Beginner  Course  1-3 Months  \n",
       "12  Beginner  Course  1-3 Months  \n",
       "13  Beginner  Course  3-6 Months  \n",
       "17  Beginner  Course  1-3 Months  "
      ]
     },
     "execution_count": 45,
     "metadata": {},
     "output_type": "execute_result"
    }
   ],
   "source": [
    "data_courses_nooutliers.head()"
   ]
  },
  {
   "cell_type": "markdown",
   "id": "ac4f2d62",
   "metadata": {},
   "source": [
    "**4.3.1. Dependence between ratings and reviews**"
   ]
  },
  {
   "cell_type": "code",
   "execution_count": 46,
   "id": "29c8ad4f",
   "metadata": {},
   "outputs": [
    {
     "name": "stdout",
     "output_type": "stream",
     "text": [
      "Correlation between ratings and reviews for regular courses: 0.22\n",
      "Correlation between ratings and reviews for top courses: 0.12\n"
     ]
    }
   ],
   "source": [
    "print('Correlation between ratings and reviews for regular courses:',\\\n",
    "      round(data_courses_nooutliers['ratings'].corr(data_courses_nooutliers['reviews']),2))\n",
    "print('Correlation between ratings and reviews for top courses:',\\\n",
    "      round(data_courses_outliers['ratings'].corr(data_courses_outliers['reviews']),2))"
   ]
  },
  {
   "cell_type": "code",
   "execution_count": 47,
   "id": "dfb0621b",
   "metadata": {},
   "outputs": [
    {
     "data": {
      "image/png": "[encoded data removed]",
      "text/plain": [
       "<Figure size 1080x432 with 2 Axes>"
      ]
     },
     "metadata": {
      "needs_background": "light"
     },
     "output_type": "display_data"
    }
   ],
   "source": [
    "barplot_characteristics_by_reviews(data_courses_nooutliers, data_courses_outliers, columns='ratings')"
   ]
  },
  {
   "cell_type": "markdown",
   "id": "00068788",
   "metadata": {},
   "source": [
    "The rating doesn't influence on the amount of reviews. The most common rating for usual courses is 4.8. For popular courses the most popular rating is 4.6. There are no popular courses with rating 5.0"
   ]
  },
  {
   "cell_type": "code",
   "execution_count": 48,
   "id": "dac608b0",
   "metadata": {},
   "outputs": [
    {
     "data": {
      "text/plain": [
       "array([ 7,  6, 14, 24, 43, 38, 42])"
      ]
     },
     "execution_count": 48,
     "metadata": {},
     "output_type": "execute_result"
    }
   ],
   "source": [
    "data_courses_nooutliers[data_courses_nooutliers['ratings'] == 5]['reviews'].unique()"
   ]
  },
  {
   "cell_type": "markdown",
   "id": "c14d6438",
   "metadata": {},
   "source": [
    "We can mention that the amount of reviews for the courses with rating 5.0 is extremly low. So we can say that the best possible rating for a popular course is 4.9."
   ]
  },
  {
   "cell_type": "markdown",
   "id": "a4a5e396",
   "metadata": {},
   "source": [
    "**4.3.2 Institutions and reviews**"
   ]
  },
  {
   "cell_type": "code",
   "execution_count": 49,
   "id": "9b8c2967",
   "metadata": {},
   "outputs": [
    {
     "data": {
      "image/png": "[encoded data removed]",
      "text/plain": [
       "<Figure size 1080x1296 with 2 Axes>"
      ]
     },
     "metadata": {
      "needs_background": "light"
     },
     "output_type": "display_data"
    }
   ],
   "source": [
    "barplot_charact_top_10(data_1 = data_courses_nooutliers , data_2 = data_courses_outliers, columns='institution')"
   ]
  },
  {
   "cell_type": "markdown",
   "id": "770124a6",
   "metadata": {},
   "source": [
    "The insitutions which have a lot of top-courses' reviews don't match with the universities which have high median amount of reviews. The most popular courses are from Yonsei University, Peking University and Yale University. We can mention a tendency - the courses from famous universities gain more reviews."
   ]
  },
  {
   "cell_type": "markdown",
   "id": "bcb5dd36",
   "metadata": {},
   "source": [
    "**4.3.2 Skills and reviews**"
   ]
  },
  {
   "cell_type": "code",
   "execution_count": 50,
   "id": "d828dcbe",
   "metadata": {},
   "outputs": [
    {
     "data": {
      "image/png": "[encoded data removed]",
      "text/plain": [
       "<Figure size 1080x1296 with 2 Axes>"
      ]
     },
     "metadata": {
      "needs_background": "light"
     },
     "output_type": "display_data"
    }
   ],
   "source": [
    "barplot_charact_top_10(data_1= skills(data_courses_nooutliers), data_2=skills(data_courses_outliers), columns='skills')"
   ]
  },
  {
   "cell_type": "markdown",
   "id": "90f3b9f3",
   "metadata": {},
   "source": [
    "There are some skills that are actual for an average course and for top courses. Students are interested in following skills: \n",
    "- Leadership and management\n",
    "- Enterpreneurship\n",
    "- Business psycology\n",
    "- Communication\n",
    "- Strategy and operations\n",
    "- Research and design"
   ]
  },
  {
   "cell_type": "markdown",
   "id": "2dea07cc",
   "metadata": {},
   "source": [
    "**4.3.3. Dependence between level of a course and reviews**"
   ]
  },
  {
   "cell_type": "code",
   "execution_count": 51,
   "id": "ba74a2b4",
   "metadata": {},
   "outputs": [
    {
     "data": {
      "image/png": "[encoded data removed]",
      "text/plain": [
       "<Figure size 1080x432 with 2 Axes>"
      ]
     },
     "metadata": {
      "needs_background": "light"
     },
     "output_type": "display_data"
    }
   ],
   "source": [
    "barplot_characteristics_by_reviews(data_courses_nooutliers, data_courses_outliers, labels=True, columns='level')"
   ]
  },
  {
   "cell_type": "markdown",
   "id": "17a0542d",
   "metadata": {},
   "source": [
    "There no top courses with advanced level. The most popular courses are in common courses for beginers and mixed courses."
   ]
  },
  {
   "cell_type": "markdown",
   "id": "b7ce7bae",
   "metadata": {},
   "source": [
    "**4.3.4. Dependence between duration and reviews**"
   ]
  },
  {
   "cell_type": "code",
   "execution_count": 52,
   "id": "1df02728",
   "metadata": {},
   "outputs": [],
   "source": [
    "data_courses_nooutliers['category_duration'] = data_courses_nooutliers['duration'].apply(category)\n",
    "data_courses_outliers['category_duration'] = data_courses_outliers['duration'].apply(category)"
   ]
  },
  {
   "cell_type": "code",
   "execution_count": 53,
   "id": "f19c8d1c",
   "metadata": {},
   "outputs": [
    {
     "data": {
      "image/png": "[encoded data removed]",
      "text/plain": [
       "<Figure size 1080x432 with 2 Axes>"
      ]
     },
     "metadata": {
      "needs_background": "light"
     },
     "output_type": "display_data"
    }
   ],
   "source": [
    "barplot_characteristics_by_reviews(data_courses_nooutliers, data_courses_outliers, labels=True, columns='category_duration')"
   ]
  },
  {
   "cell_type": "markdown",
   "id": "6515b006",
   "metadata": {},
   "source": [
    "The most viewed popular top courses have a duration from 3 to 6 months. The most popular duration for an average course is from 1 to 3 months. There are no dependence between duration of a course and the amount of reviews."
   ]
  },
  {
   "cell_type": "markdown",
   "id": "3df61658",
   "metadata": {},
   "source": [
    "<a class=\"anchor\" id=\"Step5\"></a>\n",
    "### 5.Conclusion"
   ]
  },
  {
   "cell_type": "markdown",
   "id": "877f0c39",
   "metadata": {},
   "source": [
    "There are no obvious correlations between the count of course's reviews and other characteristics.\n",
    "\n",
    "*It was mentioned that:*\n",
    "- the most popular courses are from famous institutions (for example, Yale) and well-known companies (for example, Atlassian)\n",
    "- there is no dependence between rating and reviews. An average rating for the popular courses is 4.5\n",
    "- the skills students are interested in are not really different for average courses and for top-courses. The most popular skills are: Leadership and management, Enterpreneurship, Business psycology, Communication, Strategy and operations, Research and design\n",
    "- the most viewed courses have a begginer or mixed level\n",
    "- there is no obvious dependence between duration of a course and the count of reviews\n",
    "\n",
    "*Recomendations for a future course:*\n",
    "- it should have a begginer or mixed level\n",
    "- it should study the following skills: Leadership and management, Enterpreneurship, Business psycology, Communication, Strategy and operations, Research and design"
   ]
  }
 ],
 "metadata": {
  "kernelspec": {
   "display_name": "Python 3 (ipykernel)",
   "language": "python",
   "name": "python3"
  },
  "language_info": {
   "codemirror_mode": {
    "name": "ipython",
    "version": 3
   },
   "file_extension": ".py",
   "mimetype": "text/x-python",
   "name": "python",
   "nbconvert_exporter": "python",
   "pygments_lexer": "ipython3",
   "version": "3.9.13"
  }
 },
 "nbformat": 4,
 "nbformat_minor": 5
}
